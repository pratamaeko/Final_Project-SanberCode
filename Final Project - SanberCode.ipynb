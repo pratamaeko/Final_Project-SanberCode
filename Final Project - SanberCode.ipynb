{
 "cells": [
  {
   "cell_type": "code",
   "execution_count": 1,
   "metadata": {},
   "outputs": [],
   "source": [
    "import pandas as pd\n",
    "import numpy as np\n",
    "from sklearn.pipeline import Pipeline\n",
    "from sklearn.preprocessing import MinMaxScaler\n",
    "from sklearn.model_selection import train_test_split\n",
    "from sklearn.neighbors import KNeighborsClassifier\n",
    "from sklearn.model_selection import cross_val_score\n",
    "from sklearn.metrics import accuracy_score, classification_report"
   ]
  },
  {
   "cell_type": "code",
   "execution_count": 2,
   "metadata": {},
   "outputs": [],
   "source": [
    "#import data\n",
    "df = pd.read_csv('Pendapatan.csv')"
   ]
  },
  {
   "cell_type": "code",
   "execution_count": 3,
   "metadata": {},
   "outputs": [
    {
     "data": {
      "text/html": [
       "<div>\n",
       "<style scoped>\n",
       "    .dataframe tbody tr th:only-of-type {\n",
       "        vertical-align: middle;\n",
       "    }\n",
       "\n",
       "    .dataframe tbody tr th {\n",
       "        vertical-align: top;\n",
       "    }\n",
       "\n",
       "    .dataframe thead th {\n",
       "        text-align: right;\n",
       "    }\n",
       "</style>\n",
       "<table border=\"1\" class=\"dataframe\">\n",
       "  <thead>\n",
       "    <tr style=\"text-align: right;\">\n",
       "      <th></th>\n",
       "      <th>id</th>\n",
       "      <th>Umur</th>\n",
       "      <th>Kelas Pekerja</th>\n",
       "      <th>Berat Akhir</th>\n",
       "      <th>Pendidikan</th>\n",
       "      <th>Jmlh Tahun Pendidikan</th>\n",
       "      <th>Status Perkawinan</th>\n",
       "      <th>Pekerjaan</th>\n",
       "      <th>Jenis Kelamin</th>\n",
       "      <th>Keuntungan Kapital</th>\n",
       "      <th>Kerugian Capital</th>\n",
       "      <th>Jam per Minggu</th>\n",
       "      <th>Gaji</th>\n",
       "    </tr>\n",
       "  </thead>\n",
       "  <tbody>\n",
       "    <tr>\n",
       "      <th>0</th>\n",
       "      <td>27247</td>\n",
       "      <td>59</td>\n",
       "      <td>Pemerintah Negara</td>\n",
       "      <td>139616</td>\n",
       "      <td>Master</td>\n",
       "      <td>14</td>\n",
       "      <td>Menikah</td>\n",
       "      <td>Ekesekutif Managerial</td>\n",
       "      <td>Laki2</td>\n",
       "      <td>0.0</td>\n",
       "      <td>0.0</td>\n",
       "      <td>50.0</td>\n",
       "      <td>1</td>\n",
       "    </tr>\n",
       "    <tr>\n",
       "      <th>1</th>\n",
       "      <td>1640</td>\n",
       "      <td>52</td>\n",
       "      <td>Wiraswasta</td>\n",
       "      <td>158993</td>\n",
       "      <td>SMA</td>\n",
       "      <td>9</td>\n",
       "      <td>Cerai</td>\n",
       "      <td>Servis Lainnya</td>\n",
       "      <td>Perempuan</td>\n",
       "      <td>0.0</td>\n",
       "      <td>0.0</td>\n",
       "      <td>38.0</td>\n",
       "      <td>0</td>\n",
       "    </tr>\n",
       "    <tr>\n",
       "      <th>2</th>\n",
       "      <td>45206</td>\n",
       "      <td>52</td>\n",
       "      <td>Pekerja Bebas Bukan Perusahan</td>\n",
       "      <td>284648</td>\n",
       "      <td>SMA</td>\n",
       "      <td>9</td>\n",
       "      <td>Cerai</td>\n",
       "      <td>Ekesekutif Managerial</td>\n",
       "      <td>Perempuan</td>\n",
       "      <td>0.0</td>\n",
       "      <td>0.0</td>\n",
       "      <td>99.0</td>\n",
       "      <td>1</td>\n",
       "    </tr>\n",
       "    <tr>\n",
       "      <th>3</th>\n",
       "      <td>16154</td>\n",
       "      <td>45</td>\n",
       "      <td>Wiraswasta</td>\n",
       "      <td>132847</td>\n",
       "      <td>SMA</td>\n",
       "      <td>9</td>\n",
       "      <td>Belum Pernah Menikah</td>\n",
       "      <td>Pembersih</td>\n",
       "      <td>Perempuan</td>\n",
       "      <td>0.0</td>\n",
       "      <td>0.0</td>\n",
       "      <td>40.0</td>\n",
       "      <td>0</td>\n",
       "    </tr>\n",
       "    <tr>\n",
       "      <th>4</th>\n",
       "      <td>43023</td>\n",
       "      <td>28</td>\n",
       "      <td>Wiraswasta</td>\n",
       "      <td>103432</td>\n",
       "      <td>SMA</td>\n",
       "      <td>9</td>\n",
       "      <td>Belum Pernah Menikah</td>\n",
       "      <td>Supir</td>\n",
       "      <td>Laki2</td>\n",
       "      <td>0.0</td>\n",
       "      <td>0.0</td>\n",
       "      <td>45.0</td>\n",
       "      <td>1</td>\n",
       "    </tr>\n",
       "  </tbody>\n",
       "</table>\n",
       "</div>"
      ],
      "text/plain": [
       "      id  Umur                  Kelas Pekerja  Berat Akhir Pendidikan  \\\n",
       "0  27247    59              Pemerintah Negara       139616     Master   \n",
       "1   1640    52                     Wiraswasta       158993        SMA   \n",
       "2  45206    52  Pekerja Bebas Bukan Perusahan       284648        SMA   \n",
       "3  16154    45                     Wiraswasta       132847        SMA   \n",
       "4  43023    28                     Wiraswasta       103432        SMA   \n",
       "\n",
       "   Jmlh Tahun Pendidikan     Status Perkawinan              Pekerjaan  \\\n",
       "0                     14               Menikah  Ekesekutif Managerial   \n",
       "1                      9                 Cerai         Servis Lainnya   \n",
       "2                      9                 Cerai  Ekesekutif Managerial   \n",
       "3                      9  Belum Pernah Menikah              Pembersih   \n",
       "4                      9  Belum Pernah Menikah                  Supir   \n",
       "\n",
       "  Jenis Kelamin  Keuntungan Kapital  Kerugian Capital  Jam per Minggu  Gaji  \n",
       "0         Laki2                 0.0               0.0            50.0     1  \n",
       "1     Perempuan                 0.0               0.0            38.0     0  \n",
       "2     Perempuan                 0.0               0.0            99.0     1  \n",
       "3     Perempuan                 0.0               0.0            40.0     0  \n",
       "4         Laki2                 0.0               0.0            45.0     1  "
      ]
     },
     "execution_count": 3,
     "metadata": {},
     "output_type": "execute_result"
    }
   ],
   "source": [
    "#lihat data yang sudah di import\n",
    "df.head()"
   ]
  },
  {
   "cell_type": "code",
   "execution_count": 4,
   "metadata": {},
   "outputs": [],
   "source": [
    "#buang kolom yang tidak terpakai\n",
    "df.drop(['id', 'Pendidikan', 'Berat Akhir'], axis=1, inplace=True)"
   ]
  },
  {
   "cell_type": "code",
   "execution_count": 5,
   "metadata": {},
   "outputs": [],
   "source": [
    "#mulai encoding kolom2 berisi feature\n",
    "df = pd.get_dummies(df, columns=['Kelas Pekerja','Status Perkawinan', 'Pekerjaan', 'Jenis Kelamin'])"
   ]
  },
  {
   "cell_type": "code",
   "execution_count": 6,
   "metadata": {},
   "outputs": [
    {
     "name": "stdout",
     "output_type": "stream",
     "text": [
      "<class 'pandas.core.frame.DataFrame'>\n",
      "RangeIndex: 38393 entries, 0 to 38392\n",
      "Data columns (total 38 columns):\n",
      " #   Column                                       Non-Null Count  Dtype  \n",
      "---  ------                                       --------------  -----  \n",
      " 0   Umur                                         38393 non-null  int64  \n",
      " 1   Jmlh Tahun Pendidikan                        38393 non-null  int64  \n",
      " 2   Keuntungan Kapital                           38393 non-null  float64\n",
      " 3   Kerugian Capital                             38393 non-null  float64\n",
      " 4   Jam per Minggu                               38393 non-null  float64\n",
      " 5   Gaji                                         38393 non-null  int64  \n",
      " 6   Kelas Pekerja_?                              38393 non-null  uint8  \n",
      " 7   Kelas Pekerja_Pekerja Bebas Bukan Perusahan  38393 non-null  uint8  \n",
      " 8   Kelas Pekerja_Pekerja Bebas Perusahaan       38393 non-null  uint8  \n",
      " 9   Kelas Pekerja_Pemerintah Lokal               38393 non-null  uint8  \n",
      " 10  Kelas Pekerja_Pemerintah Negara              38393 non-null  uint8  \n",
      " 11  Kelas Pekerja_Pemerintah Provinsi            38393 non-null  uint8  \n",
      " 12  Kelas Pekerja_Tanpa di Bayar                 38393 non-null  uint8  \n",
      " 13  Kelas Pekerja_Tidak Pernah Bekerja           38393 non-null  uint8  \n",
      " 14  Kelas Pekerja_Wiraswasta                     38393 non-null  uint8  \n",
      " 15  Status Perkawinan_Belum Pernah Menikah       38393 non-null  uint8  \n",
      " 16  Status Perkawinan_Berpisah                   38393 non-null  uint8  \n",
      " 17  Status Perkawinan_Cerai                      38393 non-null  uint8  \n",
      " 18  Status Perkawinan_Janda                      38393 non-null  uint8  \n",
      " 19  Status Perkawinan_Menikah                    38393 non-null  uint8  \n",
      " 20  Status Perkawinan_Menikah LDR                38393 non-null  uint8  \n",
      " 21  Pekerjaan_?                                  38393 non-null  uint8  \n",
      " 22  Pekerjaan_Asisten Rumah Tangga               38393 non-null  uint8  \n",
      " 23  Pekerjaan_Ekesekutif Managerial              38393 non-null  uint8  \n",
      " 24  Pekerjaan_Mesin Inspeksi                     38393 non-null  uint8  \n",
      " 25  Pekerjaan_Pembersih                          38393 non-null  uint8  \n",
      " 26  Pekerjaan_Pemuka Agama                       38393 non-null  uint8  \n",
      " 27  Pekerjaan_Penjaga                            38393 non-null  uint8  \n",
      " 28  Pekerjaan_Perbaikan Kerajinan                38393 non-null  uint8  \n",
      " 29  Pekerjaan_Petani                             38393 non-null  uint8  \n",
      " 30  Pekerjaan_Sales                              38393 non-null  uint8  \n",
      " 31  Pekerjaan_Servis Lainnya                     38393 non-null  uint8  \n",
      " 32  Pekerjaan_Spesialis                          38393 non-null  uint8  \n",
      " 33  Pekerjaan_Supir                              38393 non-null  uint8  \n",
      " 34  Pekerjaan_Tech-support                       38393 non-null  uint8  \n",
      " 35  Pekerjaan_Tentara                            38393 non-null  uint8  \n",
      " 36  Jenis Kelamin_Laki2                          38393 non-null  uint8  \n",
      " 37  Jenis Kelamin_Perempuan                      38393 non-null  uint8  \n",
      "dtypes: float64(3), int64(3), uint8(32)\n",
      "memory usage: 2.9 MB\n"
     ]
    }
   ],
   "source": [
    "#cek apakah df sudah siap dipakai\n",
    "df.info()"
   ]
  },
  {
   "cell_type": "code",
   "execution_count": 7,
   "metadata": {},
   "outputs": [],
   "source": [
    "# bagi data label dan data feature\n",
    "x = df.drop('Gaji', axis=1)\n",
    "y = df['Gaji']"
   ]
  },
  {
   "cell_type": "code",
   "execution_count": 8,
   "metadata": {},
   "outputs": [],
   "source": [
    "#bagi data menjadi train & test\n",
    "x_train, x_test, y_train, y_test = train_test_split(x, y, test_size=0.2, random_state=15)"
   ]
  },
  {
   "cell_type": "code",
   "execution_count": 9,
   "metadata": {},
   "outputs": [],
   "source": [
    "#Mulai memasukkan algoritma model kali ini saya menggunakan model KNN\n",
    "model = KNeighborsClassifier()"
   ]
  },
  {
   "cell_type": "code",
   "execution_count": 10,
   "metadata": {},
   "outputs": [
    {
     "data": {
      "text/plain": [
       "KNeighborsClassifier(algorithm='auto', leaf_size=30, metric='minkowski',\n",
       "                     metric_params=None, n_jobs=None, n_neighbors=5, p=2,\n",
       "                     weights='uniform')"
      ]
     },
     "execution_count": 10,
     "metadata": {},
     "output_type": "execute_result"
    }
   ],
   "source": [
    "#Mulai meng-training model\n",
    "model.fit(x_train, y_train)"
   ]
  },
  {
   "cell_type": "code",
   "execution_count": 11,
   "metadata": {},
   "outputs": [
    {
     "data": {
      "text/plain": [
       "array([0.84649194, 0.84274784, 0.84128276, 0.85495686, 0.84386193])"
      ]
     },
     "execution_count": 11,
     "metadata": {},
     "output_type": "execute_result"
    }
   ],
   "source": [
    "#Evaluasi model yang telah dilatih\n",
    "cross_val_score(model, x_train, y_train, cv=5)"
   ]
  },
  {
   "cell_type": "code",
   "execution_count": 12,
   "metadata": {},
   "outputs": [],
   "source": [
    "#Melatih model menggunakan data test\n",
    "yhat = model.predict(x_test)"
   ]
  },
  {
   "cell_type": "code",
   "execution_count": 13,
   "metadata": {},
   "outputs": [
    {
     "name": "stdout",
     "output_type": "stream",
     "text": [
      "accuracy score : 0.8501106914962886\n",
      "              precision    recall  f1-score   support\n",
      "\n",
      "           0       0.89      0.92      0.90      5761\n",
      "           1       0.73      0.64      0.68      1918\n",
      "\n",
      "    accuracy                           0.85      7679\n",
      "   macro avg       0.81      0.78      0.79      7679\n",
      "weighted avg       0.85      0.85      0.85      7679\n",
      "\n"
     ]
    }
   ],
   "source": [
    "#Membandingkan score antara prediksi data test, dan data asli (y_true)\n",
    "print('accuracy score :', accuracy_score(y_test, yhat))\n",
    "print(classification_report(y_test, yhat))"
   ]
  },
  {
   "cell_type": "markdown",
   "metadata": {},
   "source": [
    "### Model telah dilatih, mari uji menggunakan data real"
   ]
  },
  {
   "cell_type": "code",
   "execution_count": 14,
   "metadata": {},
   "outputs": [],
   "source": [
    "df2 = pd.read_csv('Pendapatan_test.csv')"
   ]
  },
  {
   "cell_type": "code",
   "execution_count": 15,
   "metadata": {},
   "outputs": [
    {
     "data": {
      "text/html": [
       "<div>\n",
       "<style scoped>\n",
       "    .dataframe tbody tr th:only-of-type {\n",
       "        vertical-align: middle;\n",
       "    }\n",
       "\n",
       "    .dataframe tbody tr th {\n",
       "        vertical-align: top;\n",
       "    }\n",
       "\n",
       "    .dataframe thead th {\n",
       "        text-align: right;\n",
       "    }\n",
       "</style>\n",
       "<table border=\"1\" class=\"dataframe\">\n",
       "  <thead>\n",
       "    <tr style=\"text-align: right;\">\n",
       "      <th></th>\n",
       "      <th>id</th>\n",
       "      <th>Umur</th>\n",
       "      <th>Kelas Pekerja</th>\n",
       "      <th>Berat Akhir</th>\n",
       "      <th>Pendidikan</th>\n",
       "      <th>Jmlh Tahun Pendidikan</th>\n",
       "      <th>Status Perkawinan</th>\n",
       "      <th>Pekerjaan</th>\n",
       "      <th>Jenis Kelamin</th>\n",
       "      <th>Keuntungan Kapital</th>\n",
       "      <th>Kerugian Capital</th>\n",
       "      <th>Jam per Minggu</th>\n",
       "    </tr>\n",
       "  </thead>\n",
       "  <tbody>\n",
       "    <tr>\n",
       "      <th>0</th>\n",
       "      <td>47933</td>\n",
       "      <td>30</td>\n",
       "      <td>Pemerintah Lokal</td>\n",
       "      <td>99761</td>\n",
       "      <td>D4</td>\n",
       "      <td>11</td>\n",
       "      <td>Cerai</td>\n",
       "      <td>Pemuka Agama</td>\n",
       "      <td>Perempuan</td>\n",
       "      <td>0.0</td>\n",
       "      <td>0.0</td>\n",
       "      <td>40.0</td>\n",
       "    </tr>\n",
       "    <tr>\n",
       "      <th>1</th>\n",
       "      <td>44213</td>\n",
       "      <td>28</td>\n",
       "      <td>Wiraswasta</td>\n",
       "      <td>202206</td>\n",
       "      <td>SMA</td>\n",
       "      <td>9</td>\n",
       "      <td>Menikah</td>\n",
       "      <td>Mesin Inspeksi</td>\n",
       "      <td>Laki2</td>\n",
       "      <td>0.0</td>\n",
       "      <td>0.0</td>\n",
       "      <td>50.0</td>\n",
       "    </tr>\n",
       "    <tr>\n",
       "      <th>2</th>\n",
       "      <td>20823</td>\n",
       "      <td>34</td>\n",
       "      <td>Pemerintah Provinsi</td>\n",
       "      <td>199934</td>\n",
       "      <td>Pendidikan Tinggi</td>\n",
       "      <td>10</td>\n",
       "      <td>Menikah</td>\n",
       "      <td>Pemuka Agama</td>\n",
       "      <td>Laki2</td>\n",
       "      <td>0.0</td>\n",
       "      <td>0.0</td>\n",
       "      <td>40.0</td>\n",
       "    </tr>\n",
       "    <tr>\n",
       "      <th>3</th>\n",
       "      <td>40565</td>\n",
       "      <td>51</td>\n",
       "      <td>Wiraswasta</td>\n",
       "      <td>373448</td>\n",
       "      <td>Pendidikan Tinggi</td>\n",
       "      <td>10</td>\n",
       "      <td>Menikah</td>\n",
       "      <td>Ekesekutif Managerial</td>\n",
       "      <td>Laki2</td>\n",
       "      <td>0.0</td>\n",
       "      <td>28028000.0</td>\n",
       "      <td>40.0</td>\n",
       "    </tr>\n",
       "    <tr>\n",
       "      <th>4</th>\n",
       "      <td>9860</td>\n",
       "      <td>20</td>\n",
       "      <td>?</td>\n",
       "      <td>144685</td>\n",
       "      <td>Pendidikan Tinggi</td>\n",
       "      <td>10</td>\n",
       "      <td>Belum Pernah Menikah</td>\n",
       "      <td>?</td>\n",
       "      <td>Perempuan</td>\n",
       "      <td>0.0</td>\n",
       "      <td>22428000.0</td>\n",
       "      <td>40.0</td>\n",
       "    </tr>\n",
       "  </tbody>\n",
       "</table>\n",
       "</div>"
      ],
      "text/plain": [
       "      id  Umur        Kelas Pekerja  Berat Akhir         Pendidikan  \\\n",
       "0  47933    30     Pemerintah Lokal        99761                 D4   \n",
       "1  44213    28           Wiraswasta       202206                SMA   \n",
       "2  20823    34  Pemerintah Provinsi       199934  Pendidikan Tinggi   \n",
       "3  40565    51           Wiraswasta       373448  Pendidikan Tinggi   \n",
       "4   9860    20                    ?       144685  Pendidikan Tinggi   \n",
       "\n",
       "   Jmlh Tahun Pendidikan     Status Perkawinan              Pekerjaan  \\\n",
       "0                     11                 Cerai           Pemuka Agama   \n",
       "1                      9               Menikah         Mesin Inspeksi   \n",
       "2                     10               Menikah           Pemuka Agama   \n",
       "3                     10               Menikah  Ekesekutif Managerial   \n",
       "4                     10  Belum Pernah Menikah                      ?   \n",
       "\n",
       "  Jenis Kelamin  Keuntungan Kapital  Kerugian Capital  Jam per Minggu  \n",
       "0     Perempuan                 0.0               0.0            40.0  \n",
       "1         Laki2                 0.0               0.0            50.0  \n",
       "2         Laki2                 0.0               0.0            40.0  \n",
       "3         Laki2                 0.0        28028000.0            40.0  \n",
       "4     Perempuan                 0.0        22428000.0            40.0  "
      ]
     },
     "execution_count": 15,
     "metadata": {},
     "output_type": "execute_result"
    }
   ],
   "source": [
    "df2.head()"
   ]
  },
  {
   "cell_type": "code",
   "execution_count": 16,
   "metadata": {},
   "outputs": [],
   "source": [
    "#buang kolom yang tidak terpakai\n",
    "df2.drop(['id', 'Pendidikan', 'Berat Akhir'], axis=1, inplace=True)"
   ]
  },
  {
   "cell_type": "code",
   "execution_count": 17,
   "metadata": {},
   "outputs": [],
   "source": [
    "#mulai encoding kolom2 berisi feature\n",
    "df2 = pd.get_dummies(df2, columns=['Kelas Pekerja','Status Perkawinan', 'Pekerjaan', 'Jenis Kelamin'])"
   ]
  },
  {
   "cell_type": "code",
   "execution_count": 18,
   "metadata": {},
   "outputs": [],
   "source": [
    "yhat_df2 = model.predict(df2)"
   ]
  },
  {
   "cell_type": "markdown",
   "metadata": {},
   "source": [
    "### Data testing telah diuji, proses untuk upload ke kaggle"
   ]
  },
  {
   "cell_type": "code",
   "execution_count": 19,
   "metadata": {},
   "outputs": [],
   "source": [
    "upload_kaggle = pd.read_csv('Pendapatan_test.csv')"
   ]
  },
  {
   "cell_type": "code",
   "execution_count": 20,
   "metadata": {},
   "outputs": [],
   "source": [
    "upload_kaggle['Gaji'] = yhat_df2"
   ]
  },
  {
   "cell_type": "code",
   "execution_count": 21,
   "metadata": {},
   "outputs": [],
   "source": [
    "upload_kaggle = upload_kaggle[['id','Gaji']]"
   ]
  },
  {
   "cell_type": "code",
   "execution_count": 23,
   "metadata": {},
   "outputs": [],
   "source": [
    "upload_kaggle.to_csv('model_knn.csv', index=False, header=True)"
   ]
  },
  {
   "attachments": {
    "hasil_project.png": {
     "image/png": "[encoded data removed]"
    }
   },
   "cell_type": "markdown",
   "metadata": {},
   "source": [
    "![hasil_project.png](attachment:hasil_project.png)"
   ]
  },
  {
   "cell_type": "markdown",
   "metadata": {},
   "source": [
    "## Model yang saya latih mendapatkan score 0.78 atau 78% akurat dengan data real"
   ]
  }
 ],
 "metadata": {
  "kernelspec": {
   "display_name": "Python 3",
   "language": "python",
   "name": "python3"
  },
  "language_info": {
   "codemirror_mode": {
    "name": "ipython",
    "version": 3
   },
   "file_extension": ".py",
   "mimetype": "text/x-python",
   "name": "python",
   "nbconvert_exporter": "python",
   "pygments_lexer": "ipython3",
   "version": "3.8.3rc1"
  }
 },
 "nbformat": 4,
 "nbformat_minor": 4
}
